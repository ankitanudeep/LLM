{
 "cells": [
  {
   "cell_type": "markdown",
   "id": "0b15b939-593a-4ccc-89bd-0cee09fe2f12",
   "metadata": {},
   "source": [
    "# Python Code Summarizer\n",
    "\n",
    "The Below code will summarize the python code and example it in details which can help codes better understand a forigen code."
   ]
  },
  {
   "cell_type": "code",
   "execution_count": 1,
   "id": "8dcf353c-e4f2-4ce7-a3b5-71b29700a148",
   "metadata": {},
   "outputs": [],
   "source": [
    "# Imports\n",
    "from IPython.display import Markdown, display\n",
    "import os\n",
    "import openai\n",
    "from dotenv import load_dotenv"
   ]
  },
  {
   "cell_type": "code",
   "execution_count": 2,
   "id": "111cf632-08e8-4246-a5bb-b56942789242",
   "metadata": {},
   "outputs": [],
   "source": [
    "load_dotenv(override=True)\n",
    "api_key = os.getenv('OPENAI_API_KEY')"
   ]
  },
  {
   "cell_type": "code",
   "execution_count": 3,
   "id": "e4f5376f-5e6f-4d75-81bf-222e34bfe828",
   "metadata": {},
   "outputs": [],
   "source": [
    "def read_code(**kwargs):\n",
    "    \"\"\"\n",
    "    You can pass two types of key word arguments to this function.\n",
    "    code_path= Path to your complex python code.\n",
    "    code= Passing raw python code.\n",
    "    \"\"\"\n",
    "    code_path = kwargs.get('code_path',None)\n",
    "    code_raw = kwargs.get('code',None)\n",
    "    \n",
    "    if code_path:\n",
    "        with open(code_path, 'r') as code_file:\n",
    "            code = code_file.read()\n",
    "        return (True, code)\n",
    "\n",
    "    if code_raw:\n",
    "        return (True, code_raw)\n",
    "\n",
    "    return (False, None)"
   ]
  },
  {
   "cell_type": "code",
   "execution_count": 4,
   "id": "00743dac-0e70-45b7-879a-d7293a6f68a6",
   "metadata": {},
   "outputs": [],
   "source": [
    "# Model Prompt\n",
    "system_prompt = (\n",
    "                \"You are a helpful assistant. The following input will be a Python code snippet. \"\n",
    "                \"Your task is to:\\n\\n\"\n",
    "                \"1. Summarize the overall purpose of the code.\\n\"\n",
    "                \"2. Explain the code line by line, describing what each line does and why it's written that way.\\n\"\n",
    "                \"3. Provide reasoning behind the code structure and logic to help novice Python developers understand the concepts better.\\n\\n\"\n",
    "                \"Use Markdown format in your response. Make the explanation beginner-friendly, using code blocks, bullet points, and headings where helpful.\"\n",
    "            ) \n",
    "# In a plot twist worthy of sci-fi, this prompt was written by ChatGPT...\n",
    "# to tell ChatGPT how to respond. We’ve officially entered the Matrix. 🤖🌀"
   ]
  },
  {
   "cell_type": "code",
   "execution_count": 10,
   "id": "ed7d2447-32a9-4761-8b0a-b31814bee7e5",
   "metadata": {},
   "outputs": [],
   "source": [
    "\n",
    "# Guess where I got this code from :)\n",
    "code_line = \"\"\"auto add = [](int a, int b) { return a + b; };\"\"\"\n",
    "is_code, raw_code = read_code(code=code_line)\n",
    "\n",
    "if is_code:\n",
    "    user_prompt = raw_code\n",
    "else:\n",
    "    print(\"Invalid Arguments\")"
   ]
  },
  {
   "cell_type": "code",
   "execution_count": 6,
   "id": "d74a1a39-1c24-4d4b-bd49-0ca416377a93",
   "metadata": {},
   "outputs": [],
   "source": [
    "def messages_for():\n",
    "    return [\n",
    "        {\"role\": \"system\", \"content\": system_prompt},\n",
    "        {\"role\": \"user\", \"content\": user_prompt}\n",
    "    ]"
   ]
  },
  {
   "cell_type": "code",
   "execution_count": 7,
   "id": "df6c2726-d0fb-4ab6-b13b-d047e8807558",
   "metadata": {},
   "outputs": [],
   "source": [
    "def summarize():\n",
    "    \n",
    "    response = openai.chat.completions.create(\n",
    "        model = \"gpt-4o-mini\",\n",
    "        messages = messages_for()\n",
    "    )\n",
    "    return response.choices[0].message.content"
   ]
  },
  {
   "cell_type": "code",
   "execution_count": 8,
   "id": "8425144c-595e-4ad6-9801-3e8778d285c4",
   "metadata": {},
   "outputs": [],
   "source": [
    "def display_summary():\n",
    "    summary = summarize()\n",
    "    display(Markdown(summary))"
   ]
  },
  {
   "cell_type": "code",
   "execution_count": 11,
   "id": "744bffdd-ec3c-4b27-b126-81bf3e8c8295",
   "metadata": {},
   "outputs": [
    {
     "data": {
      "text/markdown": [
       "## Summary of the Code\n",
       "\n",
       "The provided code snippet demonstrates the use of a lambda function in C++ that defines an anonymous function to add two integers. The lambda takes two parameters, `a` and `b`, and returns their sum. \n",
       "\n",
       "## Line-by-Line Explanation\n",
       "\n",
       "Let's break down the line of code step by step:\n",
       "\n",
       "```cpp\n",
       "auto add = [](int a, int b) { return a + b; };\n",
       "```\n",
       "\n",
       "1. **`auto add =`**: \n",
       "   - **Purpose**: This part of the code is declaring a variable named `add` and using the `auto` keyword to automatically deduce the type of `add` based on the lambda function that follows.\n",
       "   - **Why `auto`?**: In modern C++, `auto` simplifies variable declarations by allowing the compiler to determine the variable's type automatically. This is especially useful with complex types like lambdas.\n",
       "\n",
       "2. **`[]`**: \n",
       "   - **Purpose**: The square brackets denote the start of a lambda expression in C++. They are used to specify the capture clause.\n",
       "   - **Why empty brackets?**: In this case, the square brackets are empty, indicating that the lambda does not capture any variables from the surrounding scope. This is often used when we do not need any external variables within the lambda.\n",
       "\n",
       "3. **`(int a, int b)`**: \n",
       "   - **Purpose**: This part defines the parameters of the lambda. The lambda takes two parameters, `a` and `b`, both of which are of type `int` (integer).\n",
       "   - **Why specify types?**: Specifying types for the parameters helps clarify what types of arguments the lambda expects when it is called.\n",
       "\n",
       "4. **`{ return a + b; }`**: \n",
       "   - **Purpose**: This block defines the body of the lambda function where the actual operation is defined. It calculates the sum of `a` and `b` and returns the result.\n",
       "   - **Return Statement**: The `return` keyword is used to specify the output of the lambda function. In this case, it simply adds the two integers and returns the result.\n",
       "\n",
       "## Explanation of Code Structure and Logic\n",
       "\n",
       "- **Lambda Functions**: A lambda function is an anonymous function that can be defined in-line. They are useful for short operations that do not need to be reused as named functions.\n",
       "  \n",
       "- **Use of `auto`**: Using `auto` makes the code cleaner and easier to maintain. You don't have to explicitly specify the type of `add`, which can be cumbersome, especially when dealing with more complex types.\n",
       "\n",
       "- **Capture Clause**: An empty capture clause means there is no need for any outside variables, which is a common practice for simple operations like addition.\n",
       "\n",
       "- **Parameter Definition**: Specifying types ensures type safety, allowing the compiler to catch type-related errors at compile time rather than at runtime.\n",
       "\n",
       "- **Returning Values**: The use of `return` is crucial as it allows the result of the computation to be returned for further usage.\n",
       "\n",
       "### Conclusion\n",
       "\n",
       "This code snippet is an efficient and straightforward demonstration of how to create a lambda function in C++. It encapsulates the addition of two integers in a reusable object (`add`). For novice Python developers, understanding the principles of functions, scope (capturing variables), and return values is essential, as similar concepts exist in Python (like using `lambda` functions). Here’s an analogous representation in Python:\n",
       "\n",
       "```python\n",
       "add = lambda a, b: a + b\n",
       "```\n",
       "\n",
       "This Python version uses the `lambda` keyword to create a similar anonymous function that sums two numbers, reinforcing the cross-language similarity in handling functions."
      ],
      "text/plain": [
       "<IPython.core.display.Markdown object>"
      ]
     },
     "metadata": {},
     "output_type": "display_data"
    }
   ],
   "source": [
    "display_summary()"
   ]
  },
  {
   "cell_type": "code",
   "execution_count": null,
   "id": "60749d71-3c97-4559-a92c-f0849b51d9c5",
   "metadata": {},
   "outputs": [],
   "source": []
  }
 ],
 "metadata": {
  "kernelspec": {
   "display_name": "Python 3 (ipykernel)",
   "language": "python",
   "name": "python3"
  },
  "language_info": {
   "codemirror_mode": {
    "name": "ipython",
    "version": 3
   },
   "file_extension": ".py",
   "mimetype": "text/x-python",
   "name": "python",
   "nbconvert_exporter": "python",
   "pygments_lexer": "ipython3",
   "version": "3.11.12"
  }
 },
 "nbformat": 4,
 "nbformat_minor": 5
}
