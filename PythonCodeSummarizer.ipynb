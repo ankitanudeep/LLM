{
 "cells": [
  {
   "cell_type": "markdown",
   "id": "0b15b939-593a-4ccc-89bd-0cee09fe2f12",
   "metadata": {},
   "source": [
    "# Python Code Summarizer\n",
    "\n",
    "The Below code will summarize the python code and example it in details which can help codes better understand a forigen code."
   ]
  },
  {
   "cell_type": "code",
   "execution_count": 1,
   "id": "8dcf353c-e4f2-4ce7-a3b5-71b29700a148",
   "metadata": {},
   "outputs": [],
   "source": [
    "# Imports\n",
    "from IPython.display import Markdown, display\n",
    "import os\n",
    "import openai\n",
    "from dotenv import load_dotenv"
   ]
  },
  {
   "cell_type": "code",
   "execution_count": 2,
   "id": "111cf632-08e8-4246-a5bb-b56942789242",
   "metadata": {},
   "outputs": [],
   "source": [
    "load_dotenv(override=True)\n",
    "api_key = os.getenv('OPENAI_API_KEY')"
   ]
  },
  {
   "cell_type": "code",
   "execution_count": 3,
   "id": "e4f5376f-5e6f-4d75-81bf-222e34bfe828",
   "metadata": {},
   "outputs": [],
   "source": [
    "def read_code(**kwargs):\n",
    "    \"\"\"\n",
    "    You can pass two types of key word arguments to this function.\n",
    "    code_path= Path to your complex python code.\n",
    "    code= Passing raw python code.\n",
    "    \"\"\"\n",
    "    code_path = kwargs.get('code_path',None)\n",
    "    code_raw = kwargs.get('code',None)\n",
    "    \n",
    "    if code_path:\n",
    "        with open(code_path, 'r') as code_file:\n",
    "            code = code_file.read()\n",
    "        return (True, code)\n",
    "\n",
    "    if code_raw:\n",
    "        return (True, code_raw)\n",
    "\n",
    "    return (False, None)"
   ]
  },
  {
   "cell_type": "code",
   "execution_count": 4,
   "id": "00743dac-0e70-45b7-879a-d7293a6f68a6",
   "metadata": {},
   "outputs": [],
   "source": [
    "# Model Prompt\n",
    "system_prompt = (\n",
    "                \"You are a helpful assistant. The following input will be a Python code snippet. \"\n",
    "                \"Your task is to:\\n\\n\"\n",
    "                \"1. Summarize the overall purpose of the code.\\n\"\n",
    "                \"2. Explain the code line by line, describing what each line does and why it's written that way.\\n\"\n",
    "                \"3. Provide reasoning behind the code structure and logic to help novice Python developers understand the concepts better.\\n\\n\"\n",
    "                \"Use Markdown format in your response. Make the explanation beginner-friendly, using code blocks, bullet points, and headings where helpful.\"\n",
    "            ) \n",
    "# In a plot twist worthy of sci-fi, this prompt was written by ChatGPT...\n",
    "# to tell ChatGPT how to respond. We’ve officially entered the Matrix. 🤖🌀"
   ]
  },
  {
   "cell_type": "code",
   "execution_count": 10,
   "id": "ed7d2447-32a9-4761-8b0a-b31814bee7e5",
   "metadata": {},
   "outputs": [],
   "source": [
    "\n",
    "# Guess where I got this code from :)\n",
    "code_line = \"\"\"auto add = [](int a, int b) { return a + b; };\"\"\"\n",
    "is_code, raw_code = read_code(code=code_line)\n",
    "\n",
    "if is_code:\n",
    "    user_prompt = raw_code\n",
    "else:\n",
    "    print(\"Invalid Arguments\")"
   ]
  },
  {
   "cell_type": "code",
   "execution_count": 6,
   "id": "d74a1a39-1c24-4d4b-bd49-0ca416377a93",
   "metadata": {},
   "outputs": [],
   "source": [
    "def messages_for():\n",
    "    return [\n",
    "        {\"role\": \"system\", \"content\": system_prompt},\n",
    "        {\"role\": \"user\", \"content\": user_prompt}\n",
    "    ]"
   ]
  },
  {
   "cell_type": "code",
   "execution_count": 7,
   "id": "df6c2726-d0fb-4ab6-b13b-d047e8807558",
   "metadata": {},
   "outputs": [],
   "source": [
    "def summarize():\n",
    "    \n",
    "    response = openai.chat.completions.create(\n",
    "        model = \"gpt-4o-mini\",\n",
    "        messages = messages_for()\n",
    "    )\n",
    "    return response.choices[0].message.content"
   ]
  },
  {
   "cell_type": "code",
   "execution_count": 8,
   "id": "8425144c-595e-4ad6-9801-3e8778d285c4",
   "metadata": {},
   "outputs": [],
   "source": [
    "def display_summary():\n",
    "    summary = summarize()\n",
    "    display(Markdown(summary))"
   ]
  },
  {
   "cell_type": "code",
   "execution_count": 12,
   "id": "744bffdd-ec3c-4b27-b126-81bf3e8c8295",
   "metadata": {},
   "outputs": [
    {
     "data": {
      "text/markdown": [
       "# Summary of the Code Purpose\n",
       "\n",
       "The provided code snippet is a C++ lambda expression that defines an anonymous function (`add`). This function takes two integer parameters, `a` and `b`, and returns their sum. \n",
       "\n",
       "### Purpose\n",
       "- **Define a simple addition function**: The lambda expression encapsulates the behavior of adding two integers, making it easy to reuse in other parts of the code without needing to define a separate named function.\n",
       "\n",
       "---\n",
       "\n",
       "# Code Explanation\n",
       "\n",
       "Let's break down the code:\n",
       "\n",
       "```cpp\n",
       "auto add = [](int a, int b) { return a + b; };\n",
       "```\n",
       "\n",
       "### Explanation by Components\n",
       "\n",
       "1. **`auto add`**:\n",
       "   - **`auto`**: This keyword allows C++ to automatically deduce the type of the variable `add`. In this case, `add` is deduced to be a function pointer type due to the lambda expression.\n",
       "   - **`add`**: This is the name of the variable that will hold our lambda function. You can think of it like a variable that references a function for easy calling later on.\n",
       "\n",
       "2. **`= [](int a, int b) { return a + b; }`**:\n",
       "   - **`=`**: This signifies that we are assigning the lambda function to the variable `add`.\n",
       "   - **`[]`**: This is the capture clause. In this case, it is empty, meaning the lambda does not capture any external variables; it only works with its parameters directly.\n",
       "   - **`(int a, int b)`**: These are the parameters of the lambda function. `a` and `b` are declared as integers that will be used as inputs to the function.\n",
       "   - **`{ return a + b; }`**: This is the body of the lambda function. It contains a single statement that computes the sum of `a` and `b` and returns the result. \n",
       "     - **`return`**: This keyword denotes that the output of the lambda is the result of the expression `a + b`.\n",
       "\n",
       "### Why It's Written This Way\n",
       "\n",
       "- **Simplicity**: Using a lambda function allows for cleaner and more concise code, particularly when simple operations like addition are involved.\n",
       "- **Local Context**: Lambdas are useful when the function is only going to be used in a small context, without the need for creating a full function.\n",
       "- **Flexibility**: Since the `add` variable can be passed around and used like a normal function, it fits well with modern programming paradigms like functional programming, which encourages the use of first-class functions.\n",
       "\n",
       "---\n",
       "\n",
       "# Code Structure and Logic\n",
       "\n",
       "- **Lambda Functions**: Understanding lambda functions is crucial as they provide a powerful way to create functions on-the-fly. This is useful in situations such as sorting or filtering data collections dynamically.\n",
       "- **Types and Deductions**: By using `auto`, you're leveraging C++’s type inference capabilities, which simplifies coding by reducing the need for explicit type declarations.\n",
       "- **Functional Programming**: The structure of using functions as first-class citizens allows developers to treat functions just like any other object, providing more flexibility in how software is organized.\n",
       "\n",
       "### Key Takeaway\n",
       "\n",
       "In modern C++, using lambda functions can greatly enhance code readability and maintainability while promoting a functional programming approach to solving problems. Understanding how to define and use lambdas is an essential skill for any C++ developer."
      ],
      "text/plain": [
       "<IPython.core.display.Markdown object>"
      ]
     },
     "metadata": {},
     "output_type": "display_data"
    }
   ],
   "source": [
    "display_summary()"
   ]
  },
  {
   "cell_type": "code",
   "execution_count": null,
   "id": "60749d71-3c97-4559-a92c-f0849b51d9c5",
   "metadata": {},
   "outputs": [],
   "source": []
  }
 ],
 "metadata": {
  "kernelspec": {
   "display_name": "Python 3 (ipykernel)",
   "language": "python",
   "name": "python3"
  },
  "language_info": {
   "codemirror_mode": {
    "name": "ipython",
    "version": 3
   },
   "file_extension": ".py",
   "mimetype": "text/x-python",
   "name": "python",
   "nbconvert_exporter": "python",
   "pygments_lexer": "ipython3",
   "version": "3.11.12"
  }
 },
 "nbformat": 4,
 "nbformat_minor": 5
}
