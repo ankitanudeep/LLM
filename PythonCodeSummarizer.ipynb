{
 "cells": [
  {
   "cell_type": "markdown",
   "id": "0b15b939-593a-4ccc-89bd-0cee09fe2f12",
   "metadata": {},
   "source": [
    "# Python Code Summarizer\n",
    "\n",
    "The Below code will summarize the python code and example it in details which can help codes better understand a forigen code."
   ]
  },
  {
   "cell_type": "code",
   "execution_count": 1,
   "id": "8dcf353c-e4f2-4ce7-a3b5-71b29700a148",
   "metadata": {},
   "outputs": [],
   "source": [
    "# Imports\n",
    "from IPython.display import Markdown, display\n",
    "import os\n",
    "import openai\n",
    "from dotenv import load_dotenv"
   ]
  },
  {
   "cell_type": "code",
   "execution_count": 2,
   "id": "111cf632-08e8-4246-a5bb-b56942789242",
   "metadata": {},
   "outputs": [],
   "source": [
    "load_dotenv(override=True)\n",
    "api_key = os.getenv('OPENAI_API_KEY')"
   ]
  },
  {
   "cell_type": "code",
   "execution_count": 3,
   "id": "e4f5376f-5e6f-4d75-81bf-222e34bfe828",
   "metadata": {},
   "outputs": [],
   "source": [
    "def read_code(**kwargs):\n",
    "    \"\"\"\n",
    "    You can pass two types of key word arguments to this function.\n",
    "    code_path= Path to your complex python code.\n",
    "    code= Passing raw python code.\n",
    "    \"\"\"\n",
    "    code_path = kwargs.get('code_path',None)\n",
    "    code_raw = kwargs.get('code',None)\n",
    "    \n",
    "    if code_path:\n",
    "        with open(code_path, 'r') as code_file:\n",
    "            code = code_file.read()\n",
    "        return (True, code)\n",
    "\n",
    "    if code_raw:\n",
    "        return (True, code_raw)\n",
    "\n",
    "    return (False, None)"
   ]
  },
  {
   "cell_type": "code",
   "execution_count": 4,
   "id": "00743dac-0e70-45b7-879a-d7293a6f68a6",
   "metadata": {},
   "outputs": [],
   "source": [
    "# Model Prompt\n",
    "system_prompt = (\n",
    "                \"You are a helpful assistant. The following input will be a Python code snippet. \"\n",
    "                \"Your task is to:\\n\\n\"\n",
    "                \"1. Summarize the overall purpose of the code.\\n\"\n",
    "                \"2. Explain the code line by line, describing what each line does and why it's written that way.\\n\"\n",
    "                \"3. Provide reasoning behind the code structure and logic to help novice Python developers understand the concepts better.\\n\\n\"\n",
    "                \"Use Markdown format in your response. Make the explanation beginner-friendly, using code blocks, bullet points, and headings where helpful.\"\n",
    "            ) \n",
    "# In a plot twist worthy of sci-fi, this prompt was written by ChatGPT...\n",
    "# to tell ChatGPT how to respond. We’ve officially entered the Matrix. 🤖🌀"
   ]
  },
  {
   "cell_type": "code",
   "execution_count": 10,
   "id": "ed7d2447-32a9-4761-8b0a-b31814bee7e5",
   "metadata": {},
   "outputs": [],
   "source": [
    "\n",
    "# Guess where I got this code from :)\n",
    "code_line = \"\"\"auto add = [](int a, int b) { return a + b; };\"\"\"\n",
    "is_code, raw_code = read_code(code=code_line)\n",
    "\n",
    "if is_code:\n",
    "    user_prompt = raw_code\n",
    "else:\n",
    "    print(\"Invalid Arguments\")"
   ]
  },
  {
   "cell_type": "code",
   "execution_count": 6,
   "id": "d74a1a39-1c24-4d4b-bd49-0ca416377a93",
   "metadata": {},
   "outputs": [],
   "source": [
    "def messages_for():\n",
    "    return [\n",
    "        {\"role\": \"system\", \"content\": system_prompt},\n",
    "        {\"role\": \"user\", \"content\": user_prompt}\n",
    "    ]"
   ]
  },
  {
   "cell_type": "code",
   "execution_count": 7,
   "id": "df6c2726-d0fb-4ab6-b13b-d047e8807558",
   "metadata": {},
   "outputs": [],
   "source": [
    "def summarize():\n",
    "    \n",
    "    response = openai.chat.completions.create(\n",
    "        model = \"gpt-4o-mini\",\n",
    "        messages = messages_for()\n",
    "    )\n",
    "    return response.choices[0].message.content"
   ]
  },
  {
   "cell_type": "code",
   "execution_count": 8,
   "id": "8425144c-595e-4ad6-9801-3e8778d285c4",
   "metadata": {},
   "outputs": [],
   "source": [
    "def display_summary():\n",
    "    summary = summarize()\n",
    "    display(Markdown(summary))"
   ]
  },
  {
   "cell_type": "code",
   "execution_count": 9,
   "id": "744bffdd-ec3c-4b27-b126-81bf3e8c8295",
   "metadata": {},
   "outputs": [
    {
     "data": {
      "text/markdown": [
       "## Overall Purpose of the Code\n",
       "\n",
       "The code snippet uses a generator expression to yield the authors of books from a collection, specifically filtering out any books that do not have an author specified. The goal is to iterate through a list of book dictionaries and collect the authors in a memory-efficient manner.\n",
       "\n",
       "## Code Explanation\n",
       "\n",
       "Let's break down the code line by line:\n",
       "\n",
       "```python\n",
       "yield from (book.get(\"author\") for book in books if book.get(\"author\"))\n",
       "```\n",
       "\n",
       "### Line-by-Line Explanation:\n",
       "\n",
       "1. **`yield from`**:\n",
       "   - This statement is used to yield all values from a generator a higher-level generator function. It allows the function to pause and provide the next value, resuming where it left off when called again. This is useful for creating an iterator that produces a series of values without needing to store all of them in memory at once.\n",
       "\n",
       "2. **`(book.get(\"author\") for book in books if book.get(\"author\"))`**:\n",
       "   - This is a generator expression, which is a compact way to create a generator.\n",
       "   - **`book.get(\"author\")`**:\n",
       "     - The `.get()` method is used to safely retrieve the value associated with the key `\"author\"` from the `book` dictionary.\n",
       "     - Using `get()` is advantageous because it returns `None` if the key does not exist, rather than raising a KeyError. This allows the code to handle missing authors smoothly.\n",
       "   - **`for book in books`**:\n",
       "     - This is a loop iterating over each `book` in the `books` iterable (which is assumed to be a list or another iterable of dictionaries representing books).\n",
       "   - **`if book.get(\"author\")`**:\n",
       "     - This condition filters out books that do not have an author. It checks if the result of `book.get(\"author\")` is truthy (meaning it's not `None`, an empty string, or other falsy values). Only books with an actual author will be considered.\n",
       "\n",
       "### Reasoning Behind Code Structure and Logic\n",
       "\n",
       "- **Using `yield from`:** \n",
       "  - This approach allows for the creation of a generator, which is beneficial when dealing with large datasets, as it doesn't require storing all authors in memory at once. Instead, authors can be processed one at a time as they are requested.\n",
       "\n",
       "- **Generator Expression:** \n",
       "  - The generator expression is both concise and expressive. It allows for filtering (`if book.get(\"author\")`) and transforming data (`book.get(\"author\")`) in a single line.\n",
       "\n",
       "- **Safety with `get()`:** \n",
       "  - Using `.get()` instead of direct indexing (i.e., `book[\"author\"]`) prevents potential `KeyError`s, making the code more robust. If the `book` dictionary doesn't have an \"author\" key, the expression will simply yield `None` (which is filtered out by the `if` condition).\n",
       "\n",
       "### Conclusion\n",
       "\n",
       "This code snippet is an excellent example of Python's capabilities to work with collections in a memory-efficient way using generators and simple data access patterns. By leveraging `yield from`, generator expressions, and `get()` for safety, the code efficiently retrieves a list of authors while maintaining readability and conciseness. \n",
       "\n",
       "By understanding these concepts, novice Python developers will have a better grasp on iterating over data collections and managing memory usage effectively in their applications."
      ],
      "text/plain": [
       "<IPython.core.display.Markdown object>"
      ]
     },
     "metadata": {},
     "output_type": "display_data"
    }
   ],
   "source": [
    "display_summary()"
   ]
  },
  {
   "cell_type": "code",
   "execution_count": null,
   "id": "60749d71-3c97-4559-a92c-f0849b51d9c5",
   "metadata": {},
   "outputs": [],
   "source": []
  }
 ],
 "metadata": {
  "kernelspec": {
   "display_name": "Python 3 (ipykernel)",
   "language": "python",
   "name": "python3"
  },
  "language_info": {
   "codemirror_mode": {
    "name": "ipython",
    "version": 3
   },
   "file_extension": ".py",
   "mimetype": "text/x-python",
   "name": "python",
   "nbconvert_exporter": "python",
   "pygments_lexer": "ipython3",
   "version": "3.11.12"
  }
 },
 "nbformat": 4,
 "nbformat_minor": 5
}
